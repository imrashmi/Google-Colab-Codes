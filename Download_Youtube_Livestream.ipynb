{
  "nbformat": 4,
  "nbformat_minor": 0,
  "metadata": {
    "colab": {
      "name": "Download Youtube Livestream.ipynb",
      "provenance": [],
      "mount_file_id": "1qpVlvI1uSlKc4pEff7vUDVobBwWy47JC",
      "authorship_tag": "ABX9TyNfoD4WAxsXf2+vbD703a+s",
      "include_colab_link": true
    },
    "kernelspec": {
      "name": "python3",
      "display_name": "Python 3"
    },
    "language_info": {
      "name": "python"
    }
  },
  "cells": [
    {
      "cell_type": "markdown",
      "metadata": {
        "id": "view-in-github",
        "colab_type": "text"
      },
      "source": [
        "<a href=\"https://colab.research.google.com/github/imrashmi/Google-Colab-Codes/blob/main/Download_Youtube_Livestream.ipynb\" target=\"_parent\"><img src=\"https://colab.research.google.com/assets/colab-badge.svg\" alt=\"Open In Colab\"/></a>"
      ]
    },
    {
      "cell_type": "code",
      "metadata": {
        "colab": {
          "base_uri": "https://localhost:8080/"
        },
        "id": "wp8vX1AM7o2k",
        "outputId": "cda139c4-5996-48c5-d2ae-4cce3de0c77d"
      },
      "source": [
        "%cd drive/MyDrive/Torrent/"
      ],
      "execution_count": null,
      "outputs": [
        {
          "output_type": "stream",
          "text": [
            "/content/drive/MyDrive/Torrent\n"
          ],
          "name": "stdout"
        }
      ]
    },
    {
      "cell_type": "code",
      "metadata": {
        "colab": {
          "base_uri": "https://localhost:8080/"
        },
        "id": "UoQAo3JV8BVQ",
        "outputId": "245f197a-e52f-4c9b-e44d-f6616e77703c"
      },
      "source": [
        "!pip install pytube3\n",
        "from pytube import YouTube"
      ],
      "execution_count": null,
      "outputs": [
        {
          "output_type": "stream",
          "text": [
            "Requirement already satisfied: pytube3 in /usr/local/lib/python3.7/dist-packages (9.6.4)\n",
            "Requirement already satisfied: typing-extensions in /usr/local/lib/python3.7/dist-packages (from pytube3) (3.7.4.3)\n"
          ],
          "name": "stdout"
        }
      ]
    },
    {
      "cell_type": "markdown",
      "metadata": {
        "id": "jYZ35MWb8Vju"
      },
      "source": [
        "# Accepting Input from **User**"
      ]
    },
    {
      "cell_type": "code",
      "metadata": {
        "colab": {
          "base_uri": "https://localhost:8080/"
        },
        "id": "l2ElKDYQ8anl",
        "outputId": "c8df22c5-a763-45d0-f04b-a41146d9678c"
      },
      "source": [
        "!git clone https://github.com/shubham1710/Youtube-downloader.git"
      ],
      "execution_count": null,
      "outputs": [
        {
          "output_type": "stream",
          "text": [
            "Cloning into 'Youtube-downloader'...\n",
            "remote: Enumerating objects: 52, done.\u001b[K\n",
            "remote: Counting objects: 100% (52/52), done.\u001b[K\n",
            "remote: Compressing objects: 100% (46/46), done.\u001b[K\n",
            "remote: Total 52 (delta 20), reused 0 (delta 0), pack-reused 0\u001b[K\n",
            "Unpacking objects: 100% (52/52), done.\n"
          ],
          "name": "stdout"
        }
      ]
    },
    {
      "cell_type": "code",
      "metadata": {
        "colab": {
          "base_uri": "https://localhost:8080/"
        },
        "id": "KjfdKDNs9AUv",
        "outputId": "4cdcfb4f-9f26-4ae0-b5ec-2f3dec6acd62"
      },
      "source": [
        "%cd Youtube-downloader/"
      ],
      "execution_count": null,
      "outputs": [
        {
          "output_type": "stream",
          "text": [
            "/content/drive/My Drive/Torrent/Youtube-downloader\n"
          ],
          "name": "stdout"
        }
      ]
    },
    {
      "cell_type": "code",
      "metadata": {
        "colab": {
          "base_uri": "https://localhost:8080/"
        },
        "id": "hYFbaG8-9Jtk",
        "outputId": "89f559ab-f3c8-4952-ba1e-23b069369559"
      },
      "source": [
        "!python code.py"
      ],
      "execution_count": null,
      "outputs": [
        {
          "output_type": "stream",
          "text": [
            "Enter the number of youtube videos to download:   1\n",
            "\n",
            "Enter all the links one per line:\n",
            "https://www.youtube.com/watch?v=4r2-0cjJbtQ\n",
            "Traceback (most recent call last):\n",
            "  File \"code.py\", line 20, in <module>\n",
            "    yt = YouTube(link)\n",
            "  File \"/usr/local/lib/python3.7/dist-packages/pytube/__main__.py\", line 91, in __init__\n",
            "    self.prefetch()\n",
            "  File \"/usr/local/lib/python3.7/dist-packages/pytube/__main__.py\", line 181, in prefetch\n",
            "    self.vid_info_raw = request.get(self.vid_info_url)\n",
            "  File \"/usr/local/lib/python3.7/dist-packages/pytube/request.py\", line 36, in get\n",
            "    return _execute_request(url).read().decode(\"utf-8\")\n",
            "  File \"/usr/local/lib/python3.7/dist-packages/pytube/request.py\", line 24, in _execute_request\n",
            "    return urlopen(request)  # nosec\n",
            "  File \"/usr/lib/python3.7/urllib/request.py\", line 222, in urlopen\n",
            "    return opener.open(url, data, timeout)\n",
            "  File \"/usr/lib/python3.7/urllib/request.py\", line 531, in open\n",
            "    response = meth(req, response)\n",
            "  File \"/usr/lib/python3.7/urllib/request.py\", line 641, in http_response\n",
            "    'http', request, response, code, msg, hdrs)\n",
            "  File \"/usr/lib/python3.7/urllib/request.py\", line 563, in error\n",
            "    result = self._call_chain(*args)\n",
            "  File \"/usr/lib/python3.7/urllib/request.py\", line 503, in _call_chain\n",
            "    result = func(*args)\n",
            "  File \"/usr/lib/python3.7/urllib/request.py\", line 755, in http_error_302\n",
            "    return self.parent.open(new, timeout=req.timeout)\n",
            "  File \"/usr/lib/python3.7/urllib/request.py\", line 531, in open\n",
            "    response = meth(req, response)\n",
            "  File \"/usr/lib/python3.7/urllib/request.py\", line 641, in http_response\n",
            "    'http', request, response, code, msg, hdrs)\n",
            "  File \"/usr/lib/python3.7/urllib/request.py\", line 569, in error\n",
            "    return self._call_chain(*args)\n",
            "  File \"/usr/lib/python3.7/urllib/request.py\", line 503, in _call_chain\n",
            "    result = func(*args)\n",
            "  File \"/usr/lib/python3.7/urllib/request.py\", line 649, in http_error_default\n",
            "    raise HTTPError(req.full_url, code, msg, hdrs, fp)\n",
            "urllib.error.HTTPError: HTTP Error 404: Not Found\n"
          ],
          "name": "stdout"
        }
      ]
    }
  ]
}