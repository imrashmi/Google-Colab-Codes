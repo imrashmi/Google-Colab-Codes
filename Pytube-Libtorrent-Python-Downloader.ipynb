{
  "cells": [
    {
      "cell_type": "markdown",
      "metadata": {
        "id": "view-in-github",
        "colab_type": "text"
      },
      "source": [
        "<a href=\"https://colab.research.google.com/github/imrashmi/Google-Colab-Codes/blob/main/Pytube-Libtorrent-Python-Downloader.ipynb\" target=\"_parent\"><img src=\"https://colab.research.google.com/assets/colab-badge.svg\" alt=\"Open In Colab\"/></a>"
      ]
    },
    {
      "cell_type": "markdown",
      "metadata": {
        "id": "1skE7orhs6Pe"
      },
      "source": [
        "# **1.0 Log-in Into Google Drive**\n",
        "\n",
        "---\n",
        "\n"
      ]
    },
    {
      "cell_type": "code",
      "execution_count": 1,
      "metadata": {
        "colab": {
          "base_uri": "https://localhost:8080/"
        },
        "id": "Kj30Uig8kJaL",
        "outputId": "0624b6c4-37c5-4d56-cb7e-c84f6ce81e30"
      },
      "outputs": [
        {
          "output_type": "stream",
          "name": "stdout",
          "text": [
            "Mounted at /content/gdrive\n"
          ]
        }
      ],
      "source": [
        "from google.colab import drive\n",
        "drive.mount('/content/gdrive')"
      ]
    },
    {
      "cell_type": "markdown",
      "metadata": {
        "id": "xsjvfmvqtSLw"
      },
      "source": [
        "# **2.0 Create Required Folder for Downloading**\n",
        "\n",
        "---\n",
        "**Here the path is**\n",
        "\n",
        "```\n",
        "--------      --------      --------      --------\n",
        "content >> gdrive >> MyDrive >> YTdownolader\n",
        "--------      --------      --------      --------\n",
        "⇓ ⇓ ⇓ ⇓ ⇓ ⇓ ⇓ ⇓ ⇓ ⇓ ⇓ ⇓ ⇓ ⇓ ⇓ ⇓ ⇓ ⇓ ⇓ ⇓ ⇓ ⇓ ⇓ ⇓ ⇓ \n",
        "```\n",
        "\n"
      ]
    },
    {
      "cell_type": "code",
      "execution_count": null,
      "metadata": {
        "colab": {
          "base_uri": "https://localhost:8080/"
        },
        "id": "AyEXHJKopvyF",
        "outputId": "0e8699cf-2c11-42d4-98b0-c8aee61ad02e"
      },
      "outputs": [
        {
          "name": "stdout",
          "output_type": "stream",
          "text": [
            "mkdir: cannot create directory ‘/content/gdrive/MyDrive/YTdownolader/’: File exists\n"
          ]
        }
      ],
      "source": [
        "!mkdir /content/gdrive/MyDrive/YTdownolader/"
      ]
    },
    {
      "cell_type": "markdown",
      "metadata": {
        "id": "ZXDsroZwtDbV"
      },
      "source": [
        "# **3.0 Download Youtube Video to Google Drive Directly**\n",
        "\n",
        "---\n",
        "\n",
        "\n",
        "\n",
        "**3.1 Install Requisite Libraries**\n",
        "```\n",
        "# Pytest\n",
        "# Pytube\n",
        "```\n",
        "\n"
      ]
    },
    {
      "cell_type": "code",
      "execution_count": 5,
      "metadata": {
        "colab": {
          "base_uri": "https://localhost:8080/"
        },
        "id": "Vq3EwctRkgqu",
        "outputId": "0a8efac0-9c4b-4bdb-9dbd-2ab1ebf81cb4"
      },
      "outputs": [
        {
          "output_type": "stream",
          "name": "stdout",
          "text": [
            "Looking in indexes: https://pypi.org/simple, https://us-python.pkg.dev/colab-wheels/public/simple/\n",
            "Requirement already satisfied: pytube in /usr/local/lib/python3.7/dist-packages (12.1.0)\n"
          ]
        }
      ],
      "source": [
        "!pip install pytube"
      ]
    },
    {
      "cell_type": "markdown",
      "metadata": {
        "id": "rkV0yhhItzf-"
      },
      "source": [
        "# 3.2 **Download the Video Version: 02**\n",
        "**V2: Pytube**"
      ]
    },
    {
      "cell_type": "code",
      "source": [
        "from pytube import YouTube\n",
        "import time\n",
        "v_url = input(\"Please Provide the Playlist URL \\n\") #Playlist URL Input\n",
        "#dir = input(\"Please Provide full Directory Path\") #Directrory Path Input\n",
        "#Uncomment the above line to overwrite default path\n",
        "dir = '/content/gdrive/MyDrive/YTdownolader/'\n",
        "myVideo = YouTube(v_url)\n",
        "print('\\n')\n",
        "print('Requested Video Information:\\n')\n",
        "print('ID: '+myVideo.video_id)\n",
        "print('Name: '+myVideo.title)\n",
        "sec = myVideo.length\n",
        "ty_res = time.gmtime(sec)\n",
        "res = time.strftime(\"%H:%M:%S\",ty_res)\n",
        "print('Duration: '+res+' Hr')\n",
        "print('Views: '+str((myVideo.views)/1000)+'k')\n",
        "print('Thumbnail URL: '+myVideo.thumbnail_url)\n",
        "print('Rating: '+str(myVideo.rating))\n",
        "print('Downloading... \\n')\n",
        "print('Downloading path:'+dir)\n",
        "myVideoStream = YouTube(v_url).streams\n",
        "Mp4Streams = myVideoStream.filter(file_extension = \"mp4\")\n",
        "Mp4Streams.first().download(dir)"
      ],
      "metadata": {
        "id": "ear-W5mhqrEI"
      },
      "execution_count": null,
      "outputs": []
    },
    {
      "cell_type": "markdown",
      "metadata": {
        "id": "9iwTaeg3z-qP"
      },
      "source": [
        "# 3.2.1 **Download the Video Version: 02**\n",
        "**Resolution Based Download**\n",
        "\n",
        "1.   720p\n",
        "2.   480p\n",
        "3.   360p\n",
        "\n",
        "Below cell fetch required data such as video type, video resolution and in next cell use the **itag** filter to download desired stream.\n",
        "\n",
        "\n"
      ]
    },
    {
      "cell_type": "code",
      "source": [
        "myVideo = YouTube(v_url)\n",
        "print('Requested Video Information:\\n')\n",
        "print('ID: '+myVideo.video_id)\n",
        "print('Name: '+myVideo.title)\n",
        "print('Duration: '+res+' Hr')\n",
        "print('Views: '+str((myVideo.views)/1000)+'k')\n",
        "print('Thumbnail URL: '+myVideo.thumbnail_url)\n",
        "print('Streams Available: \\n')\n",
        "myVideo.streams.all()"
      ],
      "metadata": {
        "id": "r_Cbk-p60e54"
      },
      "execution_count": null,
      "outputs": []
    },
    {
      "cell_type": "code",
      "source": [
        "itag_no = input('Provide the desired itag \\n')\n",
        "resolution = myVideo.streams.get_by_itag(itag_no)\n",
        "print('Downloading Desired Resolution to '+dir)\n",
        "resolution.download(dir)\n",
        "print('Download finished ! \\n'+'Name: '+myVideo.title+'\\n'+'ID: '+myVideo.video_id)\n",
        "print('Views: '+str((myVideo.views)/1000)+'k')\n",
        "print('Duration: '+res+' Hr')\n",
        "print('Thumbnail URL: '+myVideo.thumbnail_url)"
      ],
      "metadata": {
        "id": "wy4g0i7S16d4"
      },
      "execution_count": null,
      "outputs": []
    },
    {
      "cell_type": "markdown",
      "source": [
        "# 3.3 **Download the Playlist**"
      ],
      "metadata": {
        "id": "x8JodZNVjRoH"
      }
    },
    {
      "cell_type": "code",
      "source": [
        "import re\n",
        "from pytube import Playlist\n",
        "p_url = input(\"Please Provide the Playlist URL \\n\") #Playlist URL Input\n",
        "#dir = input(\"Please Provide full Directory Path\") #Directrory Path Input\n",
        "#Uncomment the above line to overwrite default path\n",
        "dir = '/content/gdrive/MyDrive/YTdownolader/'\n",
        "playlist = Playlist(p_url)   \n",
        "DOWNLOAD_DIR = dir\n",
        "playlist._video_regex = re.compile(r\"\\\"url\\\":\\\"(/watch\\?v=[\\w-]*)\")    \n",
        "print('Playlist Lengeth: '+str(len(playlist.video_urls))+' Videos in Total')\n",
        "print('Downloading to:'+dir)   \n",
        "for video in playlist.videos:\n",
        "    print('downloading : {} with url : {}'.format(video.title, video.watch_url))\n",
        "    video.streams.\\\n",
        "        filter(type='video', progressive=True, file_extension='mp4').\\\n",
        "        order_by('resolution').\\\n",
        "        desc().\\\n",
        "        first().\\\n",
        "        download(DOWNLOAD_DIR)\n",
        "print(\"Download Finished !\")"
      ],
      "metadata": {
        "id": "WFC6lo6Udxhy"
      },
      "execution_count": null,
      "outputs": []
    },
    {
      "cell_type": "markdown",
      "metadata": {
        "id": "zp5WttBvMOB5"
      },
      "source": [
        "# **4.0 Download Any File from URL**\n",
        "\n",
        "---\n",
        "\n",
        "\n",
        "**4.1 Install Approporiate Library**\n",
        "```\n",
        "# Clint (Status Bar U/I Widget)\n",
        "```"
      ]
    },
    {
      "cell_type": "code",
      "execution_count": null,
      "metadata": {
        "colab": {
          "base_uri": "https://localhost:8080/"
        },
        "id": "JWSiaxPvM6de",
        "outputId": "50ef6915-d051-4197-aea1-bf7ddb1a8af1"
      },
      "outputs": [
        {
          "name": "stdout",
          "output_type": "stream",
          "text": [
            "Currently Not Applicable\n"
          ]
        }
      ],
      "source": [
        "print('Currently Not Applicable')"
      ]
    },
    {
      "cell_type": "markdown",
      "metadata": {
        "id": "x7rZH5RUM_Ra"
      },
      "source": [
        "**4.1 Provide Appropriate Information**\n",
        "\n",
        "---\n",
        "```\n",
        "The following details will be asked after running the instances\n",
        "# File URL\n",
        "# File Name\n",
        "# File Extension\n",
        "```\n",
        "\n"
      ]
    },
    {
      "cell_type": "code",
      "execution_count": null,
      "metadata": {
        "id": "9dkaLf4Zt8if"
      },
      "outputs": [],
      "source": [
        "from tqdm import tqdm\n",
        "import requests\n",
        "\n",
        "chunk_size = 1024\n",
        "\n",
        "url = input('Provide URL of File:')\n",
        "\n",
        "print (\"\\n Acquiring Data... \\n\")\n",
        "\n",
        "f_name = input(\"\\n Provide File Name: \")\n",
        "\n",
        "f_ext = input('\\n Provide File Extension: ')\n",
        "\n",
        "r = requests.get(url, stream = True)\n",
        "\n",
        "total_size = int(r.headers['content-length'])\n",
        "\n",
        "rating = total_size/chunk_size\n",
        "\n",
        "print (\"\\n File Size is: \"+str(round((rating/1024),2))+\" MB\")\n",
        "\n",
        "filename = f_name+\".\"+f_ext\n",
        "\n",
        "print (\"\\n Setting Downloading Path To:▼▼▼ \\n\")\n",
        "\n",
        "%cd /content/gdrive/MyDrive/YTdownolader/\n",
        "\n",
        "print('\\n Downloading... \\n')\n",
        "\n",
        "with open(filename, 'wb') as f:\n",
        "\tfor data in tqdm(iterable = r.iter_content(chunk_size = chunk_size), total = total_size/chunk_size, unit = 'KB'):\n",
        "\t\tf.write(data)\n",
        "\n",
        "\n",
        "print(\"\\n #! File: \"+filename+\" Download complete !\")"
      ]
    },
    {
      "cell_type": "markdown",
      "metadata": {
        "id": "stW_99vAaR0_"
      },
      "source": [
        "# **5.0 Torrent Download**\n",
        "\n",
        "---\n",
        "\n",
        "\n",
        "**5.1 Install Appropriate Library**\n",
        "\n",
        "```\n",
        "# libtorrent\n",
        "```\n",
        "[Libtorrent Official Page](https://www.libtorrent.org/)\n",
        "\n",
        "\n"
      ]
    },
    {
      "cell_type": "code",
      "execution_count": null,
      "metadata": {
        "id": "X0rFOmtJbH_L"
      },
      "outputs": [],
      "source": [
        "!python -m pip install --upgrade pip setuptools wheel\n",
        "!python -m pip install lbry-libtorrent"
      ]
    },
    {
      "cell_type": "markdown",
      "metadata": {
        "id": "hukAWHalbLPx"
      },
      "source": [
        "**5.2 Provide Torrent Magnet URI**\n",
        "\n",
        "---\n",
        "\n"
      ]
    },
    {
      "cell_type": "code",
      "execution_count": null,
      "metadata": {
        "id": "KKJFj4pDbXVm"
      },
      "outputs": [],
      "source": [
        "link = input(\"PASTE TORRENT/MAGNET LINK HERE \\n\") # PASTE TORRENT/MAGNET LINK HERE"
      ]
    },
    {
      "cell_type": "markdown",
      "metadata": {
        "id": "TJ0_0zXZbfQl"
      },
      "source": [
        "**5.3 Download Torrent**\n",
        "\n",
        "---\n",
        "\n"
      ]
    },
    {
      "cell_type": "code",
      "execution_count": null,
      "metadata": {
        "colab": {
          "background_save": true
        },
        "id": "kRJJ_L80bbVI"
      },
      "outputs": [],
      "source": [
        "import libtorrent as lt\n",
        "import time\n",
        "import datetime\n",
        "print('Setting Path to: /content/gdrive/MyDrive/YTdownolader')\n",
        "ses = lt.session()\n",
        "ses.listen_on(6881, 6891)\n",
        "params = {\n",
        "    'save_path': '/content/gdrive/MyDrive/YTdownolader',\n",
        "    'storage_mode': lt.storage_mode_t(2)}\n",
        "\n",
        "print(link)\n",
        "\n",
        "handle = lt.add_magnet_uri(ses, link, params)\n",
        "ses.start_dht()\n",
        "\n",
        "begin = time.time()\n",
        "print(datetime.datetime.now())\n",
        "\n",
        "print ('Downloading Metadata...')\n",
        "while (not handle.has_metadata()):\n",
        "    time.sleep(1)\n",
        "print ('Got Metadata, Starting Torrent Download...')\n",
        "\n",
        "print(\"Starting\", handle.name())\n",
        "\n",
        "while (handle.status().state != lt.torrent_status.seeding):\n",
        "    s = handle.status()\n",
        "    state_str = ['queued', 'checking', 'downloading metadata', \\\n",
        "            'downloading', 'finished', 'seeding', 'allocating']\n",
        "    print ('%.2f%% complete (down: %.1f kb/s up: %.1f kB/s peers: %d) %s ' % \\\n",
        "            (s.progress * 100, s.download_rate / 1000, s.upload_rate / 1000, \\\n",
        "            s.num_peers, state_str[s.state]))\n",
        "    time.sleep(5)\n",
        "\n",
        "end = time.time()\n",
        "print(handle.name(), \"COMPLETE\")\n",
        "\n",
        "print(\"Elapsed Time: \",int((end-begin)//60),\"min :\", int((end-begin)%60), \"sec\")\n",
        "\n",
        "print(datetime.datetime.now())"
      ]
    },
    {
      "cell_type": "markdown",
      "metadata": {
        "id": "WqYwGJAXItAx"
      },
      "source": [
        "# **6.0 Streaming Service**\n",
        "\n",
        "**Comming Soon**"
      ]
    }
  ],
  "metadata": {
    "colab": {
      "collapsed_sections": [],
      "name": "YT&FileHosting-Downloader.ipynb",
      "provenance": [],
      "authorship_tag": "ABX9TyMujpVUAf6D4Tx4cCwkSJR6",
      "include_colab_link": true
    },
    "kernelspec": {
      "display_name": "Python 3",
      "name": "python3"
    },
    "language_info": {
      "name": "python"
    }
  },
  "nbformat": 4,
  "nbformat_minor": 0
}