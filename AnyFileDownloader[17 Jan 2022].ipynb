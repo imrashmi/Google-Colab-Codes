{
  "cells": [
    {
      "cell_type": "markdown",
      "metadata": {
        "id": "view-in-github",
        "colab_type": "text"
      },
      "source": [
        "<a href=\"https://colab.research.google.com/github/imrashmi/Google-Colab-Codes/blob/main/AnyFileDownloader%5B17%20Jan%202022%5D.ipynb\" target=\"_parent\"><img src=\"https://colab.research.google.com/assets/colab-badge.svg\" alt=\"Open In Colab\"/></a>"
      ]
    },
    {
      "cell_type": "markdown",
      "source": [
        "# **1.0 Log-in Into Google Drive**\n",
        "\n",
        "---\n",
        "\n"
      ],
      "metadata": {
        "id": "1skE7orhs6Pe"
      }
    },
    {
      "cell_type": "code",
      "execution_count": 2,
      "metadata": {
        "colab": {
          "base_uri": "https://localhost:8080/"
        },
        "id": "Kj30Uig8kJaL",
        "outputId": "487aee0c-f8ea-41b7-e5c7-dc78ee0b04e5"
      },
      "outputs": [
        {
          "output_type": "stream",
          "name": "stdout",
          "text": [
            "Mounted at /content/gdrive\n"
          ]
        }
      ],
      "source": [
        "from google.colab import drive\n",
        "drive.mount('/content/gdrive')"
      ]
    },
    {
      "cell_type": "markdown",
      "source": [
        "# **2.0 Create Required Folder for Downloading**\n",
        "\n",
        "---\n",
        "**Here the path is**\n",
        "\n",
        "```\n",
        "--------      --------      --------      --------\n",
        "content >> gdrive >> MyDrive >> YTdownolader\n",
        "--------      --------      --------      --------\n",
        "⇓ ⇓ ⇓ ⇓ ⇓ ⇓ ⇓ ⇓ ⇓ ⇓ ⇓ ⇓ ⇓ ⇓ ⇓ ⇓ ⇓ ⇓ ⇓ ⇓ ⇓ ⇓ ⇓ ⇓ ⇓ \n",
        "```\n",
        "\n"
      ],
      "metadata": {
        "id": "xsjvfmvqtSLw"
      }
    },
    {
      "cell_type": "code",
      "source": [
        "!mkdir /content/gdrive/MyDrive/YTdownolader/"
      ],
      "metadata": {
        "id": "AyEXHJKopvyF",
        "colab": {
          "base_uri": "https://localhost:8080/"
        },
        "outputId": "970d6af5-dc0f-411d-d095-0dafd1130227"
      },
      "execution_count": 6,
      "outputs": [
        {
          "output_type": "stream",
          "name": "stdout",
          "text": [
            "mkdir: cannot create directory ‘/content/gdrive/MyDrive/YTdownolader/’: File exists\n"
          ]
        }
      ]
    },
    {
      "cell_type": "markdown",
      "source": [
        "# **3.0 Download Youtube Video to Google Drive Directly**\n",
        "\n",
        "---\n",
        "\n",
        "\n",
        "\n",
        "**3.1 Install Requisite Libraries**\n",
        "```\n",
        "# Pytest\n",
        "# Pytube\n",
        "```\n",
        "\n"
      ],
      "metadata": {
        "id": "ZXDsroZwtDbV"
      }
    },
    {
      "cell_type": "code",
      "execution_count": 4,
      "metadata": {
        "colab": {
          "base_uri": "https://localhost:8080/"
        },
        "id": "Vq3EwctRkgqu",
        "outputId": "abada22b-b9a4-46f1-dabe-e32aa4934878"
      },
      "outputs": [
        {
          "output_type": "stream",
          "name": "stdout",
          "text": [
            "Requirement already satisfied: pytest in /usr/local/lib/python3.7/dist-packages (3.6.4)\n",
            "Requirement already satisfied: py>=1.5.0 in /usr/local/lib/python3.7/dist-packages (from pytest) (1.11.0)\n",
            "Requirement already satisfied: more-itertools>=4.0.0 in /usr/local/lib/python3.7/dist-packages (from pytest) (8.12.0)\n",
            "Requirement already satisfied: setuptools in /usr/local/lib/python3.7/dist-packages (from pytest) (57.4.0)\n",
            "Requirement already satisfied: attrs>=17.4.0 in /usr/local/lib/python3.7/dist-packages (from pytest) (21.4.0)\n",
            "Requirement already satisfied: pluggy<0.8,>=0.5 in /usr/local/lib/python3.7/dist-packages (from pytest) (0.7.1)\n",
            "Requirement already satisfied: six>=1.10.0 in /usr/local/lib/python3.7/dist-packages (from pytest) (1.15.0)\n",
            "Requirement already satisfied: atomicwrites>=1.0 in /usr/local/lib/python3.7/dist-packages (from pytest) (1.4.0)\n",
            "Collecting pytube\n",
            "  Downloading pytube-11.0.2-py3-none-any.whl (56 kB)\n",
            "\u001b[K     |████████████████████████████████| 56 kB 1.9 MB/s \n",
            "\u001b[?25hInstalling collected packages: pytube\n",
            "Successfully installed pytube-11.0.2\n"
          ]
        }
      ],
      "source": [
        "!pip install pytest\n",
        "!pip install pytube"
      ]
    },
    {
      "cell_type": "markdown",
      "source": [
        "**3.2 Download The Video**\n",
        "\n",
        "---\n",
        "\n",
        "\n",
        " \n",
        "\n",
        "```\n",
        "# After running the link of video will be asked.\n",
        "```\n",
        "\n"
      ],
      "metadata": {
        "id": "rkV0yhhItzf-"
      }
    },
    {
      "cell_type": "code",
      "execution_count": 11,
      "metadata": {
        "colab": {
          "base_uri": "https://localhost:8080/"
        },
        "id": "ajcr4ddEkjz8",
        "outputId": "24dd4783-39fc-4cc3-9448-90c14d8a3e3d"
      },
      "outputs": [
        {
          "output_type": "stream",
          "name": "stdout",
          "text": [
            "PASTE YOUTUBE VIDEO LINK HERE \n",
            "https://youtu.be/1lFk1LSsI_c\n",
            "Setting Downloading Path To\n",
            "/content/gdrive/MyDrive/YTdownolader\n"
          ]
        }
      ],
      "source": [
        "import pytube\n",
        "from pytube.streams import Stream\n",
        "\n",
        "def downloadVideo(link):\n",
        "\t'''\n",
        "    utility to download YouTube video \n",
        "    '''\n",
        "\tprint (\"Setting Downloading Path To:\")\n",
        "\t%cd /content/gdrive/MyDrive/YTdownolader/\n",
        "\tyouTube = pytube.YouTube(link)\n",
        "\tstream = youTube.streams.get_highest_resolution()\n",
        "\tstream.download()\n",
        "\n",
        "# pass the youtube video link to download\n",
        "link = input(\"PASTE YOUTUBE VIDEO LINK HERE \\n\") # PASTE YOUTUBE VIDEO LINK HERE\n",
        "downloadVideo(link)"
      ]
    },
    {
      "cell_type": "markdown",
      "source": [
        "# **4.0 Download Any File from URL**\n",
        "\n",
        "---\n",
        "\n",
        "\n",
        "**4.1 Install Approporiate Library**\n",
        "```\n",
        "# Clint (Status Bar U/I Widget)\n",
        "```"
      ],
      "metadata": {
        "id": "zp5WttBvMOB5"
      }
    },
    {
      "cell_type": "code",
      "source": [
        "!pip install clint"
      ],
      "metadata": {
        "id": "JWSiaxPvM6de"
      },
      "execution_count": null,
      "outputs": []
    },
    {
      "cell_type": "markdown",
      "source": [
        "**4.1 Provide Appropriate Information**\n",
        "\n",
        "---\n",
        "\n",
        "\n",
        "```\n",
        "The following details will be asked after running the instances\n",
        "# File URL\n",
        "# File Name\n",
        "# File Extension\n",
        "```\n",
        "\n"
      ],
      "metadata": {
        "id": "x7rZH5RUM_Ra"
      }
    },
    {
      "cell_type": "code",
      "source": [
        "import requests\n",
        "\n",
        "from clint.textui import progress\n",
        "\n",
        "print (\"Setting Downloading Path To:\")\n",
        "%cd /content/gdrive/MyDrive/YTdownolader/\n",
        "url = input('Provide URL of File \\n')\n",
        "f_name = input('Provide File Name \\n')\n",
        "f_ext = input ('Provide File Extension \\n')\n",
        "file = f_name+\".\"+f_ext\n",
        "r = requests.get(url, stream=True)\n",
        "\n",
        "with open(file, \"wb\") as d_file:\n",
        "\n",
        "    total_length = int(r.headers.get('content-length'))\n",
        "\n",
        "    for ch in progress.bar(r.iter_content(chunk_size = 2391975), expected_size=(total_length/1024) + 1):\n",
        "\n",
        "        if ch:\n",
        "\n",
        "            d_file.write(ch)"
      ],
      "metadata": {
        "id": "i6qbS2qXMNSH"
      },
      "execution_count": null,
      "outputs": []
    }
  ],
  "metadata": {
    "colab": {
      "name": "YT-Downloader.ipynb",
      "provenance": [],
      "collapsed_sections": [],
      "authorship_tag": "ABX9TyNTO9cZHYH8GgK8Wk0qGVKK",
      "include_colab_link": true
    },
    "kernelspec": {
      "display_name": "Python 3",
      "name": "python3"
    },
    "language_info": {
      "name": "python"
    }
  },
  "nbformat": 4,
  "nbformat_minor": 0
}