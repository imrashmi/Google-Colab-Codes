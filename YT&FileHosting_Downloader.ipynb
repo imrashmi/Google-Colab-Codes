{
  "cells": [
    {
      "cell_type": "markdown",
      "metadata": {
        "id": "view-in-github",
        "colab_type": "text"
      },
      "source": [
        "<a href=\"https://colab.research.google.com/github/imrashmi/Google-Colab-Codes/blob/main/YT%26FileHosting_Downloader.ipynb\" target=\"_parent\"><img src=\"https://colab.research.google.com/assets/colab-badge.svg\" alt=\"Open In Colab\"/></a>"
      ]
    },
    {
      "cell_type": "markdown",
      "metadata": {
        "id": "1skE7orhs6Pe"
      },
      "source": [
        "# **1.0 Log-in Into Google Drive**\n",
        "\n",
        "---\n",
        "\n"
      ]
    },
    {
      "cell_type": "code",
      "execution_count": 1,
      "metadata": {
        "colab": {
          "base_uri": "https://localhost:8080/"
        },
        "id": "Kj30Uig8kJaL",
        "outputId": "0624b6c4-37c5-4d56-cb7e-c84f6ce81e30"
      },
      "outputs": [
        {
          "output_type": "stream",
          "name": "stdout",
          "text": [
            "Mounted at /content/gdrive\n"
          ]
        }
      ],
      "source": [
        "from google.colab import drive\n",
        "drive.mount('/content/gdrive')"
      ]
    },
    {
      "cell_type": "markdown",
      "metadata": {
        "id": "xsjvfmvqtSLw"
      },
      "source": [
        "# **2.0 Create Required Folder for Downloading**\n",
        "\n",
        "---\n",
        "**Here the path is**\n",
        "\n",
        "```\n",
        "--------      --------      --------      --------\n",
        "content >> gdrive >> MyDrive >> YTdownolader\n",
        "--------      --------      --------      --------\n",
        "⇓ ⇓ ⇓ ⇓ ⇓ ⇓ ⇓ ⇓ ⇓ ⇓ ⇓ ⇓ ⇓ ⇓ ⇓ ⇓ ⇓ ⇓ ⇓ ⇓ ⇓ ⇓ ⇓ ⇓ ⇓ \n",
        "```\n",
        "\n"
      ]
    },
    {
      "cell_type": "code",
      "execution_count": null,
      "metadata": {
        "colab": {
          "base_uri": "https://localhost:8080/"
        },
        "id": "AyEXHJKopvyF",
        "outputId": "0e8699cf-2c11-42d4-98b0-c8aee61ad02e"
      },
      "outputs": [
        {
          "name": "stdout",
          "output_type": "stream",
          "text": [
            "mkdir: cannot create directory ‘/content/gdrive/MyDrive/YTdownolader/’: File exists\n"
          ]
        }
      ],
      "source": [
        "!mkdir /content/gdrive/MyDrive/YTdownolader/"
      ]
    },
    {
      "cell_type": "markdown",
      "metadata": {
        "id": "ZXDsroZwtDbV"
      },
      "source": [
        "# **3.0 Download Youtube Video to Google Drive Directly**\n",
        "\n",
        "---\n",
        "\n",
        "\n",
        "\n",
        "**3.1 Install Requisite Libraries**\n",
        "```\n",
        "# Pytest\n",
        "# Pytube\n",
        "```\n",
        "\n"
      ]
    },
    {
      "cell_type": "code",
      "execution_count": 5,
      "metadata": {
        "colab": {
          "base_uri": "https://localhost:8080/"
        },
        "id": "Vq3EwctRkgqu",
        "outputId": "0a8efac0-9c4b-4bdb-9dbd-2ab1ebf81cb4"
      },
      "outputs": [
        {
          "output_type": "stream",
          "name": "stdout",
          "text": [
            "Looking in indexes: https://pypi.org/simple, https://us-python.pkg.dev/colab-wheels/public/simple/\n",
            "Requirement already satisfied: pytube in /usr/local/lib/python3.7/dist-packages (12.1.0)\n"
          ]
        }
      ],
      "source": [
        "!pip install pytube"
      ]
    },
    {
      "cell_type": "markdown",
      "metadata": {
        "id": "rkV0yhhItzf-"
      },
      "source": [
        "# 3.2 **Download the Video Version: 02**\n",
        "**V2: Pytube**"
      ]
    },
    {
      "cell_type": "code",
      "source": [
        "from pytube import YouTube\n",
        "import time\n",
        "v_url = input(\"Please Provide the Playlist URL \\n\") #Playlist URL Input\n",
        "#dir = input(\"Please Provide full Directory Path\") #Directrory Path Input\n",
        "#Uncomment the above line to overwrite default path\n",
        "dir = '/content/gdrive/MyDrive/YTdownolader/'\n",
        "myVideo = YouTube(v_url)\n",
        "print('\\n')\n",
        "print('Requested Video Information:\\n')\n",
        "print('ID: '+myVideo.video_id)\n",
        "print('Name: '+myVideo.title)\n",
        "sec = myVideo.length\n",
        "ty_res = time.gmtime(sec)\n",
        "res = time.strftime(\"%H:%M:%S\",ty_res)\n",
        "print('Duration: '+res+' Hr')\n",
        "print('Views: '+str((myVideo.views)/1000)+'k')\n",
        "print('Thumbnail URL: '+myVideo.thumbnail_url)\n",
        "print('Rating: '+str(myVideo.rating))\n",
        "print('Downloading... \\n')\n",
        "print('Downloading path:'+dir)\n",
        "myVideoStream = YouTube(v_url).streams\n",
        "Mp4Streams = myVideoStream.filter(file_extension = \"mp4\")\n",
        "Mp4Streams.first().download(dir)"
      ],
      "metadata": {
        "id": "ear-W5mhqrEI"
      },
      "execution_count": null,
      "outputs": []
    },
    {
      "cell_type": "markdown",
      "metadata": {
        "id": "9iwTaeg3z-qP"
      },
      "source": [
        "# 3.2.1 **Download the Video Version: 02**\n",
        "**Resolution Based Download**\n",
        "\n",
        "1.   720p\n",
        "2.   480p\n",
        "3.   360p\n",
        "\n",
        "Below cell fetch required data such as video type, video resolution and in next cell use the **itag** filter to download desired stream.\n",
        "\n",
        "\n"
      ]
    },
    {
      "cell_type": "code",
      "source": [
        "myVideo = YouTube(v_url)\n",
        "print('Requested Video Information:\\n')\n",
        "print('ID: '+myVideo.video_id)\n",
        "print('Name: '+myVideo.title)\n",
        "print('Duration: '+res+' Hr')\n",
        "print('Views: '+str((myVideo.views)/1000)+'k')\n",
        "print('Thumbnail URL: '+myVideo.thumbnail_url)\n",
        "print('Streams Available: \\n')\n",
        "myVideo.streams.all()"
      ],
      "metadata": {
        "id": "r_Cbk-p60e54"
      },
      "execution_count": null,
      "outputs": []
    },
    {
      "cell_type": "code",
      "source": [
        "itag_no = input('Provide the desired itag \\n')\n",
        "resolution = myVideo.streams.get_by_itag(itag_no)\n",
        "print('Downloading Desired Resolution to '+dir)\n",
        "resolution.download(dir)\n",
        "print('Download finished ! \\n'+'Name: '+myVideo.title+'\\n'+'ID: '+myVideo.video_id)\n",
        "print('Views: '+str((myVideo.views)/1000)+'k')\n",
        "print('Duration: '+res+' Hr')\n",
        "print('Thumbnail URL: '+myVideo.thumbnail_url)"
      ],
      "metadata": {
        "id": "wy4g0i7S16d4"
      },
      "execution_count": null,
      "outputs": []
    },
    {
      "cell_type": "markdown",
      "source": [
        "# 3.3 **Download the Playlist**"
      ],
      "metadata": {
        "id": "x8JodZNVjRoH"
      }
    },
    {
      "cell_type": "code",
      "source": [
        "import re\n",
        "from pytube import Playlist\n",
        "p_url = input(\"Please Provide the Playlist URL \\n\") #Playlist URL Input\n",
        "#dir = input(\"Please Provide full Directory Path\") #Directrory Path Input\n",
        "#Uncomment the above line to overwrite default path\n",
        "dir = '/content/gdrive/MyDrive/YTdownolader/'\n",
        "playlist = Playlist(p_url)   \n",
        "DOWNLOAD_DIR = dir\n",
        "playlist._video_regex = re.compile(r\"\\\"url\\\":\\\"(/watch\\?v=[\\w-]*)\")    \n",
        "print('Playlist Lengeth: '+str(len(playlist.video_urls))+' Videos in Total')\n",
        "print('Downloading to:'+dir)   \n",
        "for video in playlist.videos:\n",
        "    print('downloading : {} with url : {}'.format(video.title, video.watch_url))\n",
        "    video.streams.\\\n",
        "        filter(type='video', progressive=True, file_extension='mp4').\\\n",
        "        order_by('resolution').\\\n",
        "        desc().\\\n",
        "        first().\\\n",
        "        download(DOWNLOAD_DIR)\n",
        "print(\"Download Finished !\")"
      ],
      "metadata": {
        "id": "WFC6lo6Udxhy"
      },
      "execution_count": null,
      "outputs": []
    },
    {
      "cell_type": "markdown",
      "metadata": {
        "id": "zp5WttBvMOB5"
      },
      "source": [
        "# **4.0 Download Any File from URL**\n",
        "\n",
        "---\n",
        "\n",
        "\n",
        "**4.1 Install Approporiate Library**\n",
        "```\n",
        "# Clint (Status Bar U/I Widget)\n",
        "```"
      ]
    },
    {
      "cell_type": "code",
      "execution_count": null,
      "metadata": {
        "colab": {
          "base_uri": "https://localhost:8080/"
        },
        "id": "JWSiaxPvM6de",
        "outputId": "50ef6915-d051-4197-aea1-bf7ddb1a8af1"
      },
      "outputs": [
        {
          "name": "stdout",
          "output_type": "stream",
          "text": [
            "Currently Not Applicable\n"
          ]
        }
      ],
      "source": [
        "print('Currently Not Applicable')"
      ]
    },
    {
      "cell_type": "markdown",
      "metadata": {
        "id": "x7rZH5RUM_Ra"
      },
      "source": [
        "**4.1 Provide Appropriate Information**\n",
        "\n",
        "---\n",
        "```\n",
        "The following details will be asked after running the instances\n",
        "# File URL\n",
        "# File Name\n",
        "# File Extension\n",
        "```\n",
        "\n"
      ]
    },
    {
      "cell_type": "code",
      "execution_count": null,
      "metadata": {
        "colab": {
          "base_uri": "https://localhost:8080/"
        },
        "id": "9dkaLf4Zt8if",
        "outputId": "dbc81cc4-1bd9-429c-e824-77d2ffb24e8a"
      },
      "outputs": [
        {
          "output_type": "stream",
          "name": "stdout",
          "text": [
            "Provide URL of File:https://redirector.googlevideo.com/videoplayback?api=youtubemultidownloader.com&expire=1661205713&ei=cagDY-ysBpya1gLEu4eQBQ&ip=2a03%3Ab0c0%3A3%3Ae0%3A%3Ae6%3Af001&id=o-AFlzl6hLJp37KWL6fa0ztQVvYREXqUaG9AkzBv9LHwdX&itag=18&source=youtube&requiressl=yes&mh=XC&mm=31%2C29&mn=sn-4g5lznek%2Csn-4g5edn6y&ms=au%2Crdu&mv=u&mvi=3&pl=64&vprv=1&mime=video%2Fmp4&gir=yes&clen=449061523&ratebypass=yes&dur=8055.188&lmt=1661176111849990&mt=1661183789&fvip=3&fexp=24001373%2C24007246&beids=23886204&rbqsm=fr&txp=7219224&sparams=expire%2Cei%2Cip%2Cid%2Citag%2Csource%2Crequiressl%2Cvprv%2Cmime%2Cgir%2Cclen%2Cratebypass%2Cdur%2Clmt&sig=AOq0QJ8wRAIgP6UV_X243f4Pw9iGv2rf_0TDnbp4XPkK-Jv7I1xVu_sCIEFQqaUgXf1bNR0ghPZ9sgkJ6g79XAjTwmhdcx1q47BS&lsparams=mh%2Cmm%2Cmn%2Cms%2Cmv%2Cmvi%2Cpl&lsig=AG3C_xAwRgIhAMJFGPbko_oCodmduuUNuUV80OzbZ6H63B2Iy-cBgkmsAiEA3GqTogq2Q7Pheae5kpkkgIiOdGfjC0whKMNGpwFgz5I%3D&title=01.Episode%2004%20%7C%20Transformers%20Electrical%20Machine%20%7Conly%20Live%20%7C%20%E0%A4%8F%E0%A4%95%20%E0%A4%95%E0%A4%A6%E0%A4%AE%20%E0%A4%AC%E0%A4%A6%E0%A4%B2%E0%A4%BE%E0%A4%B5%20%E0%A4%95%E0%A5%87%20%E0%A4%B2%E0%A4%BF%E0%A4%8F%20%7C%20SSC-JE%2FRRB-JE%2F%20JE-AE\n",
            "\n",
            " Acquiring Data... \n",
            "\n",
            "\n",
            " Provide File Name: Lec 04 EM\n",
            "\n",
            " Provide File Extension: mp4\n",
            "\n",
            " File Size is: 428.26 MB\n",
            "\n",
            " Setting Downloading Path To:▼▼▼ \n",
            "\n",
            "/content/gdrive/MyDrive/YTdownolader\n",
            "\n",
            " Downloading... \n",
            "\n"
          ]
        },
        {
          "output_type": "stream",
          "name": "stderr",
          "text": [
            "100%|█████████▉| 438205/438536.6435546875 [01:48<00:00, 4254.30KB/s]/usr/local/lib/python3.7/dist-packages/tqdm/std.py:536: TqdmWarning: clamping frac to range [0, 1]\n",
            "  colour=colour)\n",
            "100%|██████████| 438537/438536.6435546875 [01:48<00:00, 4048.33KB/s]"
          ]
        },
        {
          "output_type": "stream",
          "name": "stdout",
          "text": [
            "\n",
            " #! File: Lec 04 EM.mp4 Download complete !\n"
          ]
        },
        {
          "output_type": "stream",
          "name": "stderr",
          "text": [
            "\n"
          ]
        }
      ],
      "source": [
        "from tqdm import tqdm\n",
        "import requests\n",
        "\n",
        "chunk_size = 1024\n",
        "\n",
        "url = input('Provide URL of File:')\n",
        "\n",
        "print (\"\\n Acquiring Data... \\n\")\n",
        "\n",
        "f_name = input(\"\\n Provide File Name: \")\n",
        "\n",
        "f_ext = input('\\n Provide File Extension: ')\n",
        "\n",
        "r = requests.get(url, stream = True)\n",
        "\n",
        "total_size = int(r.headers['content-length'])\n",
        "\n",
        "rating = total_size/chunk_size\n",
        "\n",
        "print (\"\\n File Size is: \"+str(round((rating/1024),2))+\" MB\")\n",
        "\n",
        "filename = f_name+\".\"+f_ext\n",
        "\n",
        "print (\"\\n Setting Downloading Path To:▼▼▼ \\n\")\n",
        "\n",
        "%cd /content/gdrive/MyDrive/YTdownolader/\n",
        "\n",
        "print('\\n Downloading... \\n')\n",
        "\n",
        "with open(filename, 'wb') as f:\n",
        "\tfor data in tqdm(iterable = r.iter_content(chunk_size = chunk_size), total = total_size/chunk_size, unit = 'KB'):\n",
        "\t\tf.write(data)\n",
        "\n",
        "\n",
        "print(\"\\n #! File: \"+filename+\" Download complete !\")"
      ]
    },
    {
      "cell_type": "markdown",
      "metadata": {
        "id": "stW_99vAaR0_"
      },
      "source": [
        "# **5.0 Torrent Download**\n",
        "\n",
        "---\n",
        "\n",
        "\n",
        "**5.1 Install Appropriate Library**\n",
        "\n",
        "```\n",
        "# libtorrent\n",
        "```\n",
        "[Libtorrent Official Page](https://www.libtorrent.org/)\n",
        "\n",
        "\n"
      ]
    },
    {
      "cell_type": "code",
      "execution_count": null,
      "metadata": {
        "colab": {
          "base_uri": "https://localhost:8080/"
        },
        "id": "X0rFOmtJbH_L",
        "outputId": "5945cfc0-ffd1-4641-e48e-1cc5c6dab19a"
      },
      "outputs": [
        {
          "name": "stdout",
          "output_type": "stream",
          "text": [
            "Looking in indexes: https://pypi.org/simple, https://us-python.pkg.dev/colab-wheels/public/simple/\n",
            "Requirement already satisfied: pip in /usr/local/lib/python3.7/dist-packages (21.1.3)\n",
            "Collecting pip\n",
            "  Downloading pip-22.1.2-py3-none-any.whl (2.1 MB)\n",
            "\u001b[K     |████████████████████████████████| 2.1 MB 7.5 MB/s \n",
            "\u001b[?25hRequirement already satisfied: setuptools in /usr/local/lib/python3.7/dist-packages (57.4.0)\n",
            "Collecting setuptools\n",
            "  Downloading setuptools-62.6.0-py3-none-any.whl (1.2 MB)\n",
            "\u001b[K     |████████████████████████████████| 1.2 MB 37.4 MB/s \n",
            "\u001b[?25hRequirement already satisfied: wheel in /usr/local/lib/python3.7/dist-packages (0.37.1)\n",
            "Installing collected packages: setuptools, pip\n",
            "  Attempting uninstall: setuptools\n",
            "    Found existing installation: setuptools 57.4.0\n",
            "    Uninstalling setuptools-57.4.0:\n",
            "      Successfully uninstalled setuptools-57.4.0\n",
            "  Attempting uninstall: pip\n",
            "    Found existing installation: pip 21.1.3\n",
            "    Uninstalling pip-21.1.3:\n",
            "      Successfully uninstalled pip-21.1.3\n",
            "\u001b[31mERROR: pip's dependency resolver does not currently take into account all the packages that are installed. This behaviour is the source of the following dependency conflicts.\n",
            "datascience 0.10.6 requires folium==0.2.1, but you have folium 0.8.3 which is incompatible.\u001b[0m\n",
            "Successfully installed pip-22.1.2 setuptools-62.6.0\n",
            "Looking in indexes: https://pypi.org/simple, https://us-python.pkg.dev/colab-wheels/public/simple/\n",
            "Collecting lbry-libtorrent\n",
            "  Downloading lbry_libtorrent-1.2.4-py3-none-any.whl (2.4 MB)\n",
            "\u001b[2K     \u001b[90m━━━━━━━━━━━━━━━━━━━━━━━━━━━━━━━━━━━━━━━━\u001b[0m \u001b[32m2.4/2.4 MB\u001b[0m \u001b[31m37.4 MB/s\u001b[0m eta \u001b[36m0:00:00\u001b[0m\n",
            "\u001b[?25hInstalling collected packages: lbry-libtorrent\n",
            "Successfully installed lbry-libtorrent-1.2.4\n",
            "\u001b[33mWARNING: Running pip as the 'root' user can result in broken permissions and conflicting behaviour with the system package manager. It is recommended to use a virtual environment instead: https://pip.pypa.io/warnings/venv\u001b[0m\u001b[33m\n",
            "\u001b[0m"
          ]
        }
      ],
      "source": [
        "!python -m pip install --upgrade pip setuptools wheel\n",
        "!python -m pip install lbry-libtorrent"
      ]
    },
    {
      "cell_type": "markdown",
      "metadata": {
        "id": "hukAWHalbLPx"
      },
      "source": [
        "**5.2 Provide Torrent Magnet URI**\n",
        "\n",
        "---\n",
        "\n"
      ]
    },
    {
      "cell_type": "code",
      "execution_count": null,
      "metadata": {
        "colab": {
          "base_uri": "https://localhost:8080/"
        },
        "id": "KKJFj4pDbXVm",
        "outputId": "e04c5bfe-2104-400f-d9fd-f9c07d2f9d21"
      },
      "outputs": [
        {
          "name": "stdout",
          "output_type": "stream",
          "text": [
            "PASTE TORRENT/MAGNET LINK HERE \n",
            "magnet:?xt=urn:btih:0E2FD00500F647A98FD23E3D723BEC12A6F9AFC4&dn=Star.Trek.Discovery.S01E03.Context.Is.for.Kings.1080p.NF.WEBRip.x265.HEVC.6CH-MRN&tr=udp%3A%2F%2Ftracker.leechers-paradise.org%3A6969%2Fannounce&tr=udp%3A%2F%2Ftracker.coppersurfer.tk%3A6969%2Fannounce&tr=udp%3A%2F%2Ftracker.opentrackr.org%3A1337%2Fannounce&tr=udp%3A%2F%2Ftracker.zer0day.to%3A1337%2Fannounce&tr=udp%3A%2F%2Feddie4.nl%3A6969%2Fannounce&tr=udp%3A%2F%2Ftracker.zer0day.to%3A1337%2Fannounce&tr=udp%3A%2F%2Ftracker.leechers-paradise.org%3A6969%2Fannounce&tr=udp%3A%2F%2Fcoppersurfer.tk%3A6969%2Fannounce\n"
          ]
        }
      ],
      "source": [
        "link = input(\"PASTE TORRENT/MAGNET LINK HERE \\n\") # PASTE TORRENT/MAGNET LINK HERE"
      ]
    },
    {
      "cell_type": "markdown",
      "metadata": {
        "id": "TJ0_0zXZbfQl"
      },
      "source": [
        "**5.3 Download Torrent**\n",
        "\n",
        "---\n",
        "\n"
      ]
    },
    {
      "cell_type": "code",
      "execution_count": null,
      "metadata": {
        "colab": {
          "background_save": true,
          "base_uri": "https://localhost:8080/"
        },
        "id": "kRJJ_L80bbVI",
        "outputId": "0533f08e-fff0-4a0c-e419-3a6109c5feab"
      },
      "outputs": [
        {
          "name": "stdout",
          "output_type": "stream",
          "text": [
            "Setting Path to: /content/gdrive/MyDrive/YTdownolader\n",
            "magnet:?xt=urn:btih:0E2FD00500F647A98FD23E3D723BEC12A6F9AFC4&dn=Star.Trek.Discovery.S01E03.Context.Is.for.Kings.1080p.NF.WEBRip.x265.HEVC.6CH-MRN&tr=udp%3A%2F%2Ftracker.leechers-paradise.org%3A6969%2Fannounce&tr=udp%3A%2F%2Ftracker.coppersurfer.tk%3A6969%2Fannounce&tr=udp%3A%2F%2Ftracker.opentrackr.org%3A1337%2Fannounce&tr=udp%3A%2F%2Ftracker.zer0day.to%3A1337%2Fannounce&tr=udp%3A%2F%2Feddie4.nl%3A6969%2Fannounce&tr=udp%3A%2F%2Ftracker.zer0day.to%3A1337%2Fannounce&tr=udp%3A%2F%2Ftracker.leechers-paradise.org%3A6969%2Fannounce&tr=udp%3A%2F%2Fcoppersurfer.tk%3A6969%2Fannounce\n",
            "2022-06-25 14:19:49.580508\n",
            "Downloading Metadata...\n"
          ]
        }
      ],
      "source": [
        "import libtorrent as lt\n",
        "import time\n",
        "import datetime\n",
        "print('Setting Path to: /content/gdrive/MyDrive/YTdownolader')\n",
        "ses = lt.session()\n",
        "ses.listen_on(6881, 6891)\n",
        "params = {\n",
        "    'save_path': '/content/gdrive/MyDrive/YTdownolader',\n",
        "    'storage_mode': lt.storage_mode_t(2)}\n",
        "\n",
        "print(link)\n",
        "\n",
        "handle = lt.add_magnet_uri(ses, link, params)\n",
        "ses.start_dht()\n",
        "\n",
        "begin = time.time()\n",
        "print(datetime.datetime.now())\n",
        "\n",
        "print ('Downloading Metadata...')\n",
        "while (not handle.has_metadata()):\n",
        "    time.sleep(1)\n",
        "print ('Got Metadata, Starting Torrent Download...')\n",
        "\n",
        "print(\"Starting\", handle.name())\n",
        "\n",
        "while (handle.status().state != lt.torrent_status.seeding):\n",
        "    s = handle.status()\n",
        "    state_str = ['queued', 'checking', 'downloading metadata', \\\n",
        "            'downloading', 'finished', 'seeding', 'allocating']\n",
        "    print ('%.2f%% complete (down: %.1f kb/s up: %.1f kB/s peers: %d) %s ' % \\\n",
        "            (s.progress * 100, s.download_rate / 1000, s.upload_rate / 1000, \\\n",
        "            s.num_peers, state_str[s.state]))\n",
        "    time.sleep(5)\n",
        "\n",
        "end = time.time()\n",
        "print(handle.name(), \"COMPLETE\")\n",
        "\n",
        "print(\"Elapsed Time: \",int((end-begin)//60),\"min :\", int((end-begin)%60), \"sec\")\n",
        "\n",
        "print(datetime.datetime.now())"
      ]
    },
    {
      "cell_type": "markdown",
      "metadata": {
        "id": "WqYwGJAXItAx"
      },
      "source": [
        "# **6.0 Streaming Service**"
      ]
    },
    {
      "cell_type": "code",
      "source": [
        "from pytube import YouTube\n",
        "yt = YouTube('https://youtu.be/uGJr4rnT7vQ')\n",
        "yt.title\n"
      ],
      "metadata": {
        "colab": {
          "base_uri": "https://localhost:8080/",
          "height": 35
        },
        "id": "Zge6l6Mvt4h5",
        "outputId": "9b1c0913-60d1-4297-f7e7-1c2e4c960341"
      },
      "execution_count": null,
      "outputs": [
        {
          "output_type": "execute_result",
          "data": {
            "text/plain": [
              "'Episode 02 | Power System | Only Live | एक कदम बदलाव के लिए | SSC-JE/RRB-JE/other JE-AE'"
            ],
            "application/vnd.google.colaboratory.intrinsic+json": {
              "type": "string"
            }
          },
          "metadata": {},
          "execution_count": 45
        }
      ]
    },
    {
      "cell_type": "code",
      "source": [
        "pytube https://youtu.be/uGJr4rnT7vQ"
      ],
      "metadata": {
        "colab": {
          "base_uri": "https://localhost:8080/",
          "height": 130
        },
        "id": "ToXcY9L2wyLW",
        "outputId": "aaa9fd41-4a5b-4cf9-aa55-7eebaa14c113"
      },
      "execution_count": null,
      "outputs": [
        {
          "output_type": "error",
          "ename": "SyntaxError",
          "evalue": "ignored",
          "traceback": [
            "\u001b[0;36m  File \u001b[0;32m\"<ipython-input-47-94f3ef55281f>\"\u001b[0;36m, line \u001b[0;32m1\u001b[0m\n\u001b[0;31m    pytube https://youtu.be/uGJr4rnT7vQ\u001b[0m\n\u001b[0m               ^\u001b[0m\n\u001b[0;31mSyntaxError\u001b[0m\u001b[0;31m:\u001b[0m invalid syntax\n"
          ]
        }
      ]
    },
    {
      "cell_type": "code",
      "source": [
        "!python --version"
      ],
      "metadata": {
        "id": "9oYhqfeo1tqs",
        "colab": {
          "base_uri": "https://localhost:8080/"
        },
        "outputId": "ac54f270-26f3-4afa-ee3c-731cc7f53196"
      },
      "execution_count": null,
      "outputs": [
        {
          "output_type": "stream",
          "name": "stdout",
          "text": [
            "Python 3.7.13\n"
          ]
        }
      ]
    }
  ],
  "metadata": {
    "colab": {
      "collapsed_sections": [],
      "name": "YT&FileHosting-Downloader.ipynb",
      "provenance": [],
      "authorship_tag": "ABX9TyPh5lOFx5qOahGTmiYK+KsT",
      "include_colab_link": true
    },
    "kernelspec": {
      "display_name": "Python 3",
      "name": "python3"
    },
    "language_info": {
      "name": "python"
    }
  },
  "nbformat": 4,
  "nbformat_minor": 0
}