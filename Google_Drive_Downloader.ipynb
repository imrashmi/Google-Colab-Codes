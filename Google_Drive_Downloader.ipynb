{
  "nbformat": 4,
  "nbformat_minor": 0,
  "metadata": {
    "colab": {
      "name": "Google Drive Downloader.ipynb",
      "provenance": [],
      "authorship_tag": "ABX9TyOsj2bi8/eXYY3UWZGHGmc5",
      "include_colab_link": true
    },
    "kernelspec": {
      "display_name": "Python 3",
      "name": "python3"
    },
    "language_info": {
      "name": "python"
    }
  },
  "cells": [
    {
      "cell_type": "markdown",
      "metadata": {
        "id": "view-in-github",
        "colab_type": "text"
      },
      "source": [
        "<a href=\"https://colab.research.google.com/github/imrashmi/youtub_downloader/blob/main/Google_Drive_Downloader.ipynb\" target=\"_parent\"><img src=\"https://colab.research.google.com/assets/colab-badge.svg\" alt=\"Open In Colab\"/></a>"
      ]
    },
    {
      "cell_type": "markdown",
      "metadata": {
        "id": "KUsSodG_EIDw"
      },
      "source": [
        "# 1.Mount Google Drive"
      ]
    },
    {
      "cell_type": "code",
      "metadata": {
        "colab": {
          "base_uri": "https://localhost:8080/"
        },
        "id": "5z3JuvQmB8Ev",
        "outputId": "7d07d057-679d-4fd5-c184-f8d59bea6b49"
      },
      "source": [
        "from google.colab import drive\n",
        "drive.mount('/content/gdrive')\n"
      ],
      "execution_count": 1,
      "outputs": [
        {
          "output_type": "stream",
          "text": [
            "Mounted at /content/gdrive\n"
          ],
          "name": "stdout"
        }
      ]
    },
    {
      "cell_type": "markdown",
      "metadata": {
        "id": "9EEt7VG7ER0H"
      },
      "source": [
        "# 2. Replace \n",
        "\n",
        "```\n",
        "# file_url= \"Your Own URL\"\n",
        "```\n",
        "#3. Rename\n",
        "\n",
        "```\n",
        "# \"python.mkv\" to your \"own_filename.extension\"\n",
        "```\n",
        "# 4. Example !\n",
        "```\n",
        "open(\"/content/gdrive/MyDrive/python.mkv\", \"wb\") to open(\"/content/gdrive/MyDrive/MyFile.mp4\", \"wb\")\n",
        "```\n",
        "\n",
        "\n"
      ]
    },
    {
      "cell_type": "code",
      "metadata": {
        "id": "xKTq948_CTzN"
      },
      "source": [
        "import requests\n",
        "file_url = \"https://i66.indiworlds.com:183/d/44ih7nvd7db4joaxiecvh3vrz4gfknuuwfegz4wkrqxpzuqajrzxzqqurtoxgjeh7khsvfi5/ExtraMovies.cc_N1JM15HDBRESD.mkv\"\n",
        "\t\n",
        "r = requests.get(file_url, stream = True)\n",
        "\n",
        "with open(\"/content/gdrive/My Drive/ExtraMovies.cc_N1JM15HDBRESD.mkv\", \"wb\") as file:\n",
        "\tfor block in r.iter_content(chunk_size = 1024):\n",
        "\t\tif block:\n",
        "\t\t\tfile.write(block)\n"
      ],
      "execution_count": 3,
      "outputs": []
    }
  ]
}